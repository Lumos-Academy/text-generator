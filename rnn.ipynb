{
 "cells": [
  {
   "cell_type": "code",
   "execution_count": 6,
   "metadata": {},
   "outputs": [],
   "source": [
    "import torch\n",
    "import torch.nn as nn\n",
    "import torch.optim as optim\n",
    "from torch.utils.data import Dataset, DataLoader\n",
    "import numpy as np\n",
    "import random\n",
    "import re"
   ]
  },
  {
   "cell_type": "code",
   "execution_count": null,
   "metadata": {},
   "outputs": [],
   "source": [
    "# Set seeds for reproducibility\n",
    "def set_seed(seed):\n",
    "    random.seed(seed)\n",
    "    np.random.seed(seed)\n",
    "    torch.manual_seed(seed)\n",
    "    torch.cuda.manual_seed_all(seed)\n",
    "    torch.backends.cudnn.deterministic = True\n",
    "    torch.backends.cudnn.benchmark = False\n",
    "\n",
    "# Set the seed\n",
    "set_seed(42)  # You can change this to any integer value"
   ]
  },
  {
   "cell_type": "code",
   "execution_count": 7,
   "metadata": {},
   "outputs": [],
   "source": [
    "# Set the device to GPU if available, otherwise CPU\n",
    "device = torch.device(\"cuda\" if torch.cuda.is_available() else \"cpu\")"
   ]
  },
  {
   "cell_type": "code",
   "execution_count": 8,
   "metadata": {},
   "outputs": [],
   "source": [
    "class TextDataset(Dataset):\n",
    "    def __init__(self, file_path, seq_length, vocab=None):\n",
    "        with open(file_path, 'r', encoding='utf-8') as f:\n",
    "            text = f.read()\n",
    "        \n",
    "        text = re.sub(r'\\s+', ' ', text)  # Clean up spaces\n",
    "        self.vocab = vocab or sorted(set(text))\n",
    "        self.char2idx = {c: i for i, c in enumerate(self.vocab)}\n",
    "        self.idx2char = {i: c for i, c in enumerate(self.vocab)}\n",
    "        self.seq_length = seq_length\n",
    "        self.text_as_int = np.array([self.char2idx[c] for c in text])\n",
    "        self.num_samples = len(self.text_as_int) - seq_length\n",
    "        \n",
    "    def __len__(self):\n",
    "        return self.num_samples\n",
    "    \n",
    "    def __getitem__(self, idx):\n",
    "        input_seq = self.text_as_int[idx:idx + self.seq_length]\n",
    "        target_seq = self.text_as_int[idx + 1:idx + self.seq_length + 1]\n",
    "        return torch.tensor(input_seq, dtype=torch.long), torch.tensor(target_seq, dtype=torch.long)"
   ]
  },
  {
   "cell_type": "code",
   "execution_count": 9,
   "metadata": {},
   "outputs": [],
   "source": [
    "class RNNModel(nn.Module):\n",
    "    def __init__(self, vocab_size, embed_size, hidden_size, num_layers):\n",
    "        super(RNNModel, self).__init__()\n",
    "        self.embedding = nn.Embedding(vocab_size, embed_size)\n",
    "        self.rnn = nn.RNN(embed_size, hidden_size, num_layers, batch_first=True)\n",
    "        self.fc = nn.Linear(hidden_size, vocab_size)\n",
    "    \n",
    "    def forward(self, x, hidden):\n",
    "        x = self.embedding(x)\n",
    "        out, hidden = self.rnn(x, hidden)\n",
    "        out = self.fc(out)\n",
    "        return out, hidden\n",
    "    \n",
    "    def init_hidden(self, batch_size):\n",
    "        return torch.zeros(num_layers, batch_size, hidden_size).to(device)"
   ]
  },
  {
   "cell_type": "code",
   "execution_count": 10,
   "metadata": {},
   "outputs": [],
   "source": [
    "def train_and_generate(model, dataloader, criterion, optimizer, num_epochs, generation_length, generate_every_n_epochs):\n",
    "    model.train()\n",
    "    print(\"Started training\")\n",
    "    for epoch in range(1, num_epochs + 1):\n",
    "        for inputs, targets in dataloader:\n",
    "            inputs, targets = inputs.to(device), targets.to(device)  # Move data to the device\n",
    "            optimizer.zero_grad()\n",
    "\n",
    "            # Initialize hidden state with the correct batch size\n",
    "            hidden = model.init_hidden(inputs.size(0))\n",
    "            \n",
    "            outputs, hidden = model(inputs, hidden)\n",
    "            hidden = hidden.detach()\n",
    "            loss = criterion(outputs.view(-1, vocab_size), targets.view(-1))\n",
    "            loss.backward()\n",
    "            optimizer.step()\n",
    "        \n",
    "        print(f'Epoch {epoch}/{num_epochs}, Loss: {loss.item()}')\n",
    "        \n",
    "        if epoch % generate_every_n_epochs == 0:\n",
    "            model.eval()\n",
    "            generated_text = generate_text(model, generation_length)\n",
    "            print(f\"Generated text after {epoch} epochs:\\n{generated_text}\\n\")\n",
    "            model.train()\n",
    "\n",
    "def generate_text(model, generation_length, temperature=1.0):\n",
    "    model.eval()\n",
    "    generated_text = \"\"\n",
    "    input_seq = torch.randint(0, vocab_size, (1, 1), dtype=torch.long).to(device)  # Random start\n",
    "    hidden = model.init_hidden(1)\n",
    "    \n",
    "    for _ in range(generation_length):\n",
    "        with torch.no_grad():\n",
    "            output, hidden = model(input_seq, hidden)\n",
    "            output = output.div(temperature).exp()\n",
    "            next_char_idx = torch.multinomial(output[0, -1], 1).item()\n",
    "            next_char = idx2char[next_char_idx]\n",
    "            generated_text += next_char\n",
    "            input_seq = torch.tensor([[next_char_idx]], dtype=torch.long).to(device)\n",
    "    \n",
    "    return generated_text"
   ]
  },
  {
   "cell_type": "code",
   "execution_count": null,
   "metadata": {},
   "outputs": [
    {
     "name": "stdout",
     "output_type": "stream",
     "text": [
      "Started training\n",
      "Epoch 1/50, Loss: 1.0113270282745361\n"
     ]
    }
   ],
   "source": [
    "# Hyperparameters\n",
    "file_path = 'trump_speeches_combined_processed.txt'\n",
    "seq_length = 100\n",
    "embed_size = 128\n",
    "hidden_size = 256\n",
    "num_layers = 2\n",
    "batch_size = 64\n",
    "num_epochs = 50\n",
    "learning_rate = 0.001\n",
    "generation_length = 500  # Length of the generated text\n",
    "generate_every_n_epochs = 5  # Generate text after every 5 epochs\n",
    "\n",
    "# Initialize Dataset and DataLoader\n",
    "dataset = TextDataset(file_path, seq_length)\n",
    "dataloader = DataLoader(dataset, batch_size=batch_size, shuffle=True)\n",
    "\n",
    "# Vocabulary size\n",
    "vocab_size = len(dataset.vocab)\n",
    "char2idx = dataset.char2idx\n",
    "idx2char = dataset.idx2char\n",
    "\n",
    "# Initialize the model, loss function, and optimizer\n",
    "model = RNNModel(vocab_size, embed_size, hidden_size, num_layers).to(device)  # Move model to device\n",
    "criterion = nn.CrossEntropyLoss()\n",
    "optimizer = optim.Adam(model.parameters(), lr=learning_rate)\n",
    "\n",
    "# Train the model and generate text in a loop\n",
    "train_and_generate(model, dataloader, criterion, optimizer, num_epochs, generation_length, generate_every_n_epochs)"
   ]
  },
  {
   "cell_type": "code",
   "execution_count": null,
   "metadata": {},
   "outputs": [],
   "source": []
  }
 ],
 "metadata": {
  "kernelspec": {
   "display_name": "Python 3 (ipykernel)",
   "language": "python",
   "name": "python3"
  },
  "language_info": {
   "codemirror_mode": {
    "name": "ipython",
    "version": 3
   },
   "file_extension": ".py",
   "mimetype": "text/x-python",
   "name": "python",
   "nbconvert_exporter": "python",
   "pygments_lexer": "ipython3",
   "version": "3.10.12"
  }
 },
 "nbformat": 4,
 "nbformat_minor": 2
}
